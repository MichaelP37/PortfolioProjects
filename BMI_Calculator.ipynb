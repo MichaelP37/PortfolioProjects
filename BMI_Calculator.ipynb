{
  "nbformat": 4,
  "nbformat_minor": 0,
  "metadata": {
    "colab": {
      "provenance": []
    },
    "kernelspec": {
      "name": "python3",
      "display_name": "Python 3"
    },
    "language_info": {
      "name": "python"
    }
  },
  "cells": [
    {
      "cell_type": "markdown",
      "source": [
        "# BMI Calculator"
      ],
      "metadata": {
        "id": "fFTDkjO0-kIi"
      }
    },
    {
      "cell_type": "code",
      "source": [
        "# BMI = Weight (in kilograms)/Height^2 (in metres)"
      ],
      "metadata": {
        "id": "5_t9d5nh_LcV"
      },
      "execution_count": null,
      "outputs": []
    },
    {
      "cell_type": "code",
      "execution_count": 10,
      "metadata": {
        "colab": {
          "base_uri": "https://localhost:8080/"
        },
        "id": "o1WtV6LR-iQQ",
        "outputId": "3be37800-8070-44aa-c730-9da705651e8d"
      },
      "outputs": [
        {
          "output_type": "stream",
          "name": "stdout",
          "text": [
            "Please enter your weight in kilograms: 70\n",
            "Please enter your height in metres: 1.88\n",
            "19.805341783612494\n"
          ]
        }
      ],
      "source": [
        " name = input(\"Please enter your name: \")\n",
        "\n",
        " weight = float(input('Please enter your weight in kilograms: '))\n",
        "\n",
        " height = float(input('Please enter your height in metres: '))\n",
        "\n",
        "BMI = weight/(height)**2\n",
        "\n",
        "print(BMI)"
      ]
    },
    {
      "cell_type": "code",
      "source": [
        "# If your BMI is less than 18.5, it falls within the underweight range.\n",
        "# If your BMI is 18.5 to 24.9, it falls within the Healthy Weight range.\n",
        "# If your BMI is 25.0 to 29.9, it falls within the overweight range.\n",
        "# If your BMI is 30.0 or higher, it falls within the obese range."
      ],
      "metadata": {
        "colab": {
          "base_uri": "https://localhost:8080/",
          "height": 35
        },
        "id": "thzvhG1c-xR_",
        "outputId": "79f78742-747a-4174-867a-bfc0fe2b0916"
      },
      "execution_count": 2,
      "outputs": [
        {
          "output_type": "execute_result",
          "data": {
            "text/plain": [
              "'Hi'"
            ],
            "application/vnd.google.colaboratory.intrinsic+json": {
              "type": "string"
            }
          },
          "metadata": {},
          "execution_count": 2
        }
      ]
    },
    {
      "cell_type": "code",
      "source": [
        "if BMI > 0:\n",
        "  if BMI < 18.5:\n",
        "    print(name + \", you are underweight\")\n",
        "  elif 18.5 <= BMI <= 24.9:\n",
        "    print(name + \", you are a healthy weight\")\n",
        "  elif 25 <= BMI <= 29.9:\n",
        "    print(name + \", you are overweight\")\n",
        "  else:\n",
        "    print(name + \", you are obese\")"
      ],
      "metadata": {
        "id": "CWOhWIE7AIiY"
      },
      "execution_count": null,
      "outputs": []
    },
    {
      "cell_type": "code",
      "source": [
        " name = input(\"Please enter your name: \")\n",
        "\n",
        " weight = float(input('Please enter your weight in kilograms: '))\n",
        "\n",
        " height = float(input('Please enter your height in metres: '))\n",
        "\n",
        "BMI = weight/(height)**2\n",
        "\n",
        "print(BMI)\n",
        "\n",
        "if BMI > 0:\n",
        "  if BMI < 18.5:\n",
        "    print(name + \", you are underweight\")\n",
        "  elif 18.5 <= BMI <= 24.9:\n",
        "    print(name + \", you are a healthy weight\")\n",
        "  elif 25 <= BMI <= 29.9:\n",
        "    print(name + \", you are overweight\")\n",
        "  else:\n",
        "    print(name + \", you are obese\")"
      ],
      "metadata": {
        "colab": {
          "base_uri": "https://localhost:8080/"
        },
        "id": "0ksxIet4BIJe",
        "outputId": "c66f2bf5-d80a-4946-f081-34eec73cfd9f"
      },
      "execution_count": 11,
      "outputs": [
        {
          "output_type": "stream",
          "name": "stdout",
          "text": [
            "Please enter your name: Michael\n",
            "Please enter your weight in kilograms: 70\n",
            "Please enter your height in metres: 1.88\n",
            "19.805341783612494\n",
            "Michael, you are a healthy weight\n"
          ]
        }
      ]
    }
  ]
}