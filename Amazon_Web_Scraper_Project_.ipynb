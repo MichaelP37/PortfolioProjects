{
  "nbformat": 4,
  "nbformat_minor": 0,
  "metadata": {
    "colab": {
      "provenance": []
    },
    "kernelspec": {
      "name": "python3",
      "display_name": "Python 3"
    },
    "language_info": {
      "name": "python"
    }
  },
  "cells": [
    {
      "cell_type": "markdown",
      "source": [
        "# Web Scraper Project"
      ],
      "metadata": {
        "id": "j8M3wH2Ku5zZ"
      }
    },
    {
      "cell_type": "code",
      "execution_count": null,
      "metadata": {
        "id": "lCBDK1bxukRZ"
      },
      "outputs": [],
      "source": [
        "# import libraries\n",
        "\n",
        "from bs4 import BeautifulSoup\n",
        "import requests\n",
        "import time\n",
        "import datetime\n",
        "\n",
        "import smtplib"
      ]
    },
    {
      "cell_type": "code",
      "source": [
        "# Connect to Website and pull in data\n",
        "\n",
        "URL = 'https://www.amazon.com/Funny-Data-Systems-Business-Analyst/dp/B07FNW9FGJ/ref=sr_1_3?dchild=1&keywords=data%2Banalyst%2Btshirt&qid=1626655184&sr=8-3&customId=B0752XJYNL&th=1'\n",
        "\n",
        "headers = {\"User-Agent\": \"Mozilla/5.0 (Windows NT 10.0; Win64; x64) AppleWebKit/537.36 (KHTML, like Gecko) Chrome/78.0.3904.108 Safari/537.36\", \"Accept-Encoding\":\"gzip, deflate\", \"Accept\":\"text/html,application/xhtml+xml,application/xml;q=0.9,*/*;q=0.8\", \"DNT\":\"1\",\"Connection\":\"close\", \"Upgrade-Insecure-Requests\":\"1\"}\n",
        "\n",
        "page = requests.get(URL, headers=headers)\n",
        "\n",
        "soup1 = BeautifulSoup(page.content, \"html.parser\")\n",
        "\n",
        "soup2 = BeautifulSoup(soup1.prettify(), \"html.parser\")\n",
        "\n",
        "title = soup2.find(id='productTitle').get_text()\n",
        "\n",
        "price = soup1.find(\"span\", {\"class\":\"aok-offscreen\"}).text\n",
        "\n",
        "number_of_ratings = soup2.find(id = 'acrCustomerReviewText').get_text()\n",
        "\n",
        "average_rating = soup1.find(\"span\", {\"class\":\"a-size-base a-color-base\"}).text\n",
        "\n",
        "print(title)\n",
        "print(price)\n",
        "print(number_of_ratings)\n",
        "print(average_rating)"
      ],
      "metadata": {
        "colab": {
          "base_uri": "https://localhost:8080/"
        },
        "id": "3AC03hQ3vabC",
        "outputId": "4cff2026-1988-47e1-e33f-82bae888798b"
      },
      "execution_count": null,
      "outputs": [
        {
          "output_type": "stream",
          "name": "stdout",
          "text": [
            "\n",
            "                    Funny Got Data MIS Data Systems Business Analyst T-Shirt\n",
            "                   \n",
            "   $16.99  \n",
            "\n",
            "                     19 ratings\n",
            "                    \n",
            " 4.3 \n"
          ]
        }
      ]
    },
    {
      "cell_type": "code",
      "source": [
        "# Remove Whitespaces and Symbols\n",
        "\n",
        "price = price.strip()[1:]\n",
        "title = title.strip()\n",
        "number_of_ratings = number_of_ratings.strip()\n",
        "average_rating = average_rating.strip()\n",
        "\n",
        "print(title)\n",
        "print(price)\n",
        "print(number_of_ratings)\n",
        "print(average_rating)"
      ],
      "metadata": {
        "id": "g-vhUojLvcpB",
        "colab": {
          "base_uri": "https://localhost:8080/"
        },
        "outputId": "01c9a5da-c887-4dbc-daab-e3ceade27383"
      },
      "execution_count": null,
      "outputs": [
        {
          "output_type": "stream",
          "name": "stdout",
          "text": [
            "Funny Got Data MIS Data Systems Business Analyst T-Shirt\n",
            "16.99\n",
            "19 ratings\n",
            "4.3\n"
          ]
        }
      ]
    },
    {
      "cell_type": "code",
      "source": [
        "# Create a Timestamp for your output to track when data was collected\n",
        "\n",
        "import datetime\n",
        "\n",
        "today = datetime.date.today()\n",
        "\n",
        "print(today)"
      ],
      "metadata": {
        "id": "yh9n3gbxvdIY",
        "colab": {
          "base_uri": "https://localhost:8080/"
        },
        "outputId": "3d7ebd74-2f6e-4ea0-99df-5a37d62089d8"
      },
      "execution_count": null,
      "outputs": [
        {
          "output_type": "stream",
          "name": "stdout",
          "text": [
            "2024-05-01\n"
          ]
        }
      ]
    },
    {
      "cell_type": "code",
      "source": [
        "# Create CSV and write headers and data into the file\n",
        "\n",
        "import csv\n",
        "\n",
        "header = ['Title', 'Price', 'Number of Ratings', 'Average Rating', 'Date']\n",
        "data = [title, price, number_of_ratings, average_rating, today]\n",
        "\n",
        "\n",
        "with open('AmazonWebScraperDataset.csv', 'w', newline='', encoding='UTF8') as f:\n",
        "    writer = csv.writer(f)\n",
        "    writer.writerow(header)\n",
        "    writer.writerow(data)\n"
      ],
      "metadata": {
        "id": "BCZP9X3zvfsg"
      },
      "execution_count": null,
      "outputs": []
    },
    {
      "cell_type": "code",
      "source": [
        "# Check CSV File\n",
        "\n",
        "import pandas as pd\n",
        "\n",
        "df = pd.read_csv(r'/content/AmazonWebScraperDataset.csv')\n",
        "\n",
        "print(df)"
      ],
      "metadata": {
        "id": "M0Zljl8yvgzA",
        "colab": {
          "base_uri": "https://localhost:8080/"
        },
        "outputId": "06e26e23-a3c5-47cb-9fd2-b46f8ed75e79"
      },
      "execution_count": null,
      "outputs": [
        {
          "output_type": "stream",
          "name": "stdout",
          "text": [
            "                                               Title  Price Number of Ratings  \\\n",
            "0  Funny Got Data MIS Data Systems Business Analy...  16.99        19 ratings   \n",
            "\n",
            "   Average Rating        Date  \n",
            "0             4.3  2024-05-01  \n"
          ]
        }
      ]
    },
    {
      "cell_type": "code",
      "source": [
        "# Appending data to the csv\n",
        "\n",
        "with open('AmazonWebScraperDataset.csv', 'a+', newline='', encoding='UTF8') as f:\n",
        "    writer = csv.writer(f)\n",
        "    writer.writerow(data)"
      ],
      "metadata": {
        "id": "95w_7LvuviDw"
      },
      "execution_count": null,
      "outputs": []
    },
    {
      "cell_type": "code",
      "source": [
        "# Combine all the code a function\n",
        "\n",
        "\n",
        "def check_price():\n",
        "    URL = 'https://www.amazon.com/Funny-Data-Systems-Business-Analyst/dp/B07FNW9FGJ/ref=sr_1_3?dchild=1&keywords=data%2Banalyst%2Btshirt&qid=1626655184&sr=8-3&customId=B0752XJYNL&th=1'\n",
        "\n",
        "    headers = {\"User-Agent\": \"Mozilla/5.0 (Windows NT 10.0; Win64; x64) AppleWebKit/537.36 (KHTML, like Gecko) Chrome/78.0.3904.108 Safari/537.36\", \"Accept-Encoding\":\"gzip, deflate\", \"Accept\":\"text/html,application/xhtml+xml,application/xml;q=0.9,*/*;q=0.8\", \"DNT\":\"1\",\"Connection\":\"close\", \"Upgrade-Insecure-Requests\":\"1\"}\n",
        "\n",
        "    page = requests.get(URL, headers=headers)\n",
        "\n",
        "    soup1 = BeautifulSoup(page.content, \"html.parser\")\n",
        "\n",
        "    soup2 = BeautifulSoup(soup1.prettify(), \"html.parser\")\n",
        "\n",
        "    title = soup2.find(id='productTitle').get_text()\n",
        "\n",
        "    price = soup1.find(\"span\", {\"class\":\"aok-offscreen\"}).text\n",
        "\n",
        "    number_of_ratings = soup2.find(id = 'acrCustomerReviewText').get_text()\n",
        "\n",
        "    average_rating = soup1.find(\"span\", {\"class\":\"a-size-base a-color-base\"}).text\n",
        "\n",
        "    price = price.strip()[1:]\n",
        "    title = title.strip()\n",
        "    number_of_ratings = number_of_ratings.strip()\n",
        "    average_rating = average_rating.strip()\n",
        "\n",
        "    import datetime\n",
        "\n",
        "    today = datetime.date.today()\n",
        "\n",
        "    import csv\n",
        "\n",
        "    header = ['Title', 'Price', 'Number of Ratings', 'Average Rating', 'Date']\n",
        "    data = [title, price, number_of_ratings, average_rating, today]\n",
        "\n",
        "    with open('AmazonWebScraperDataset.csv', 'a+', newline='', encoding='UTF8') as f:\n",
        "        writer = csv.writer(f)\n",
        "        writer.writerow(data)\n",
        "\n",
        "    if price < 15:\n",
        "      send_mail()\n"
      ],
      "metadata": {
        "id": "_k-yCmtxvjZo"
      },
      "execution_count": null,
      "outputs": []
    },
    {
      "cell_type": "code",
      "source": [
        "# Runs check_price after a set time and inputs data into your CSV\n",
        "\n",
        "while(True):\n",
        "    check_price()\n",
        "    time.sleep(86400)"
      ],
      "metadata": {
        "id": "id2rJuZ7vkm4"
      },
      "execution_count": null,
      "outputs": []
    },
    {
      "cell_type": "code",
      "source": [
        "# Checking the CSV File\n",
        "\n",
        "import pandas as pd\n",
        "\n",
        "df = pd.read_csv(r'/content/AmazonWebScraperDataset.csv')\n",
        "\n",
        "print(df)"
      ],
      "metadata": {
        "id": "SbdOfZvFvlFQ",
        "colab": {
          "base_uri": "https://localhost:8080/"
        },
        "outputId": "327af41e-8bcf-4879-db20-d7cd33c25e93"
      },
      "execution_count": null,
      "outputs": [
        {
          "output_type": "stream",
          "name": "stdout",
          "text": [
            "                                               Title  Price Number of Ratings  \\\n",
            "0  Funny Got Data MIS Data Systems Business Analy...  16.99        19 ratings   \n",
            "\n",
            "   Average Rating        Date  \n",
            "0             4.3  2024-05-01  \n"
          ]
        }
      ]
    },
    {
      "cell_type": "code",
      "source": [
        "# Send an email if the shirt price is < $15\n",
        "\n",
        "def send_mail():\n",
        "    server = smtplib.SMTP_SSL('smtp.gmail.com',465)\n",
        "    server.ehlo()\n",
        "    #server.starttls()\n",
        "    server.ehlo()\n",
        "    server.login('test@gmail.com','xxxxxxxxxxxxxx')\n",
        "\n",
        "    subject = \"The Shirt is below $15!\"\n",
        "    body = \"THe Shirt you want is on sale! Link here: https://www.amazon.com/Funny-Data-Systems-Business-Analyst/dp/B07FNW9FGJ/ref=sr_1_3?dchild=1&keywords=data+analyst+tshirt&qid=1626655184&sr=8-3\"\n",
        "\n",
        "    msg = f\"Subject: {subject}\\n\\n{body}\"\n",
        "\n",
        "    server.sendmail(\n",
        "        'test@gmail.com',\n",
        "        msg\n",
        "\n",
        "    )"
      ],
      "metadata": {
        "id": "oOHJ2bLbvmZg"
      },
      "execution_count": null,
      "outputs": []
    }
  ]
}