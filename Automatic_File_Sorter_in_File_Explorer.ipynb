{
  "nbformat": 4,
  "nbformat_minor": 0,
  "metadata": {
    "colab": {
      "provenance": []
    },
    "kernelspec": {
      "name": "python3",
      "display_name": "Python 3"
    },
    "language_info": {
      "name": "python"
    }
  },
  "cells": [
    {
      "cell_type": "markdown",
      "source": [
        "# Automatic File Sorter in File Explorer"
      ],
      "metadata": {
        "id": "rb5rpMvDBjTg"
      }
    },
    {
      "cell_type": "code",
      "source": [
        "import os, shutil"
      ],
      "metadata": {
        "id": "s4al4oRFBoGf"
      },
      "execution_count": 25,
      "outputs": []
    },
    {
      "cell_type": "code",
      "source": [
        "path = r\"C:/Users/pettitm/OneDrive - Tabcorp/Documents/Test Folder/\""
      ],
      "metadata": {
        "id": "Et_ensULB4TW"
      },
      "execution_count": 33,
      "outputs": []
    },
    {
      "cell_type": "code",
      "source": [
        "file_name = os.listdir(path)"
      ],
      "metadata": {
        "id": "pl35OBfvNSU3"
      },
      "execution_count": null,
      "outputs": []
    },
    {
      "cell_type": "code",
      "source": [
        "folder_names = ['csv files', 'image files', 'text files']\n",
        "\n",
        "for loop in range(0,3):\n",
        "  if not os.path.exists(path + folder_names[loop]):\n",
        "    os.makedirs(path + folder_names[loop])\n",
        "\n",
        "for file in file_name:\n",
        "  if \".csv\" in file and not os.path.exists(path + 'csv files/' + file):\n",
        "    shutil.move(path + file, path + \"csv files/\" + file)\n",
        "  elif \".png\" in file and not os.path.exists(path + 'image files/' + file):\n",
        "    shutil.move(path + file, path + \"image files/\" + file)\n",
        "  elif \".txt\" in file and not os.path.exists(path + 'text files/' + file):\n",
        "    shutil.move(path + file, path + \"text files/\" + file)"
      ],
      "metadata": {
        "id": "U10q-6_9CSjG"
      },
      "execution_count": null,
      "outputs": []
    }
  ]
}